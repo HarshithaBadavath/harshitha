{
  "nbformat": 4,
  "nbformat_minor": 0,
  "metadata": {
    "colab": {
      "provenance": [],
      "authorship_tag": "ABX9TyO7BiqtBLK1Ql4q9noUlcae",
      "include_colab_link": true
    },
    "kernelspec": {
      "name": "python3",
      "display_name": "Python 3"
    },
    "language_info": {
      "name": "python"
    }
  },
  "cells": [
    {
      "cell_type": "markdown",
      "metadata": {
        "id": "view-in-github",
        "colab_type": "text"
      },
      "source": [
        "<a href=\"https://colab.research.google.com/github/HarshithaBadavath/harshitha/blob/main/simple_Chatbot.ipynb\" target=\"_parent\"><img src=\"https://colab.research.google.com/assets/colab-badge.svg\" alt=\"Open In Colab\"/></a>"
      ]
    },
    {
      "cell_type": "code",
      "execution_count": 1,
      "metadata": {
        "id": "uyMXhdeYjzC5"
      },
      "outputs": [],
      "source": [
        "import numpy as np #numerical computations\n",
        "import nltk #library for NLP\n",
        "import string\n",
        "import random"
      ]
    },
    {
      "cell_type": "code",
      "source": [
        "#Importing and reading corpus"
      ],
      "metadata": {
        "id": "L274TWmokfyR"
      },
      "execution_count": null,
      "outputs": []
    },
    {
      "cell_type": "code",
      "source": [
        "f=open('chatbot.txt','r',errors='ignore')\n",
        "raw_doc=f.read()\n",
        "raw_doc=raw_doc.lower() #converts text to lowercse\n",
        "nltk.download('punkt') #using punkt tokenizer\n",
        "nltk.download('wordnet') # using wordnet dictionary\n",
        "sent_tokens=nltk.sent_tokenize(raw_doc) #doc to list of sentences\n",
        "word_tokens=nltk.word_tokenize(raw_doc) #doc to list of words"
      ],
      "metadata": {
        "colab": {
          "base_uri": "https://localhost:8080/"
        },
        "id": "ygghAwdLkm02",
        "outputId": "a0040990-b7d0-4eb5-e9cb-d0e31607c391"
      },
      "execution_count": 12,
      "outputs": [
        {
          "output_type": "stream",
          "name": "stderr",
          "text": [
            "[nltk_data] Downloading package punkt to /root/nltk_data...\n",
            "[nltk_data]   Package punkt is already up-to-date!\n",
            "[nltk_data] Downloading package wordnet to /root/nltk_data...\n",
            "[nltk_data]   Package wordnet is already up-to-date!\n"
          ]
        }
      ]
    },
    {
      "cell_type": "code",
      "source": [
        "#Text preprocessing"
      ],
      "metadata": {
        "id": "LiVo2uw7mTVZ"
      },
      "execution_count": null,
      "outputs": []
    },
    {
      "cell_type": "code",
      "source": [
        "lemmer=nltk.stem.WordNetLemmatizer()\n",
        "def LemTokens(tokens):\n",
        "  return [lemmer.lemmatize(token) for token in tokens ]\n",
        "remove_punct_dict=dict((ord(punct),None) for punct in string.punctuation)\n",
        "def LemNormalize(text):\n",
        "  return LemTokens(nltk.word_tokenize(text.lower().translate(remove_punct_dict)))"
      ],
      "metadata": {
        "id": "PgTkgl62mYt6"
      },
      "execution_count": 5,
      "outputs": []
    },
    {
      "cell_type": "code",
      "source": [
        "#Defing the greeting function"
      ],
      "metadata": {
        "id": "WonBvyHZnYsn"
      },
      "execution_count": null,
      "outputs": []
    },
    {
      "cell_type": "code",
      "source": [
        "GREET_inputs=(\"hello\",\"hi\",\"greetings\",\"sup\",\"what's up\",\"hey\")\n",
        "greet_res=[\"hi\",\"hey\",\"*nods*\",\"hi there!\",\"helo\",\"I am glad You are talking to me\",\"hi raw....\",\"namaste!\"]\n",
        "def greet(sentence):\n",
        "  for word in sentence.split():\n",
        "    if word.lower() in GREET_inputs:\n",
        "      return random.choice(greet_res)\n"
      ],
      "metadata": {
        "id": "hUobygNKnd56"
      },
      "execution_count": 7,
      "outputs": []
    },
    {
      "cell_type": "code",
      "source": [
        "#Response generating"
      ],
      "metadata": {
        "id": "GGGFFtsxolZX"
      },
      "execution_count": null,
      "outputs": []
    },
    {
      "cell_type": "code",
      "source": [
        "from sklearn.feature_extraction.text import TfidfVectorizer\n",
        "from sklearn.metrics.pairwise import cosine_similarity"
      ],
      "metadata": {
        "id": "aQacph2TopTN"
      },
      "execution_count": 8,
      "outputs": []
    },
    {
      "cell_type": "code",
      "source": [
        "def response(user_res):\n",
        "  robo1_res=''\n",
        "  TfidVec=TfidfVectorizer(tokenizer=LemNormalize, stop_words='english')\n",
        "  tfidf=TfidVec.fit_transform(sent_tokens)\n",
        "  vals=cosine_similarity(tfidf[-1],tfidf)\n",
        "  idx=vals.argsort()[0][-2]\n",
        "  flat=vals.flatten()\n",
        "  flat.sort()\n",
        "  req=flat[-2]\n",
        "  if(req==0):\n",
        "    robo1_res=robo1_res+\"adivi manishini thalli ardam kale :(\"\n",
        "    return robo1_res\n",
        "  else:\n",
        "    robo1_res=robo1_res+sent_tokens[idx]\n",
        "    return robo1_res\n"
      ],
      "metadata": {
        "id": "szVSDVJFpBqD"
      },
      "execution_count": 9,
      "outputs": []
    },
    {
      "cell_type": "code",
      "source": [
        "#Defining conversation start/end protocols"
      ],
      "metadata": {
        "id": "HXTWTdQ3qyMy"
      },
      "execution_count": null,
      "outputs": []
    },
    {
      "cell_type": "code",
      "source": [
        "flag=True\n",
        "print(\"BOT : My name is Honey. kaburlu chepukundham.... okavela vodhu anukunte Bye chepi po :<\")\n",
        "while(flag==True):\n",
        "  user_res=input()\n",
        "  user_res= user_res.lower()\n",
        "  if(user_res!='bye'):\n",
        "    if(user_res== 'thanks' or user_res=='thank you'):\n",
        "      flag=False\n",
        "      print(\"Honey: You are Welcome... :) \")\n",
        "    elif(user_res=='how are you ?' or user_res=='yela unav'):\n",
        "      print(\"Honey: I am good ! what about you ?\")\n",
        "    elif(user_res=='fine' or user_res=='good' or user_res=='i am fine' or user_res=='not bad' or user_res=='bane una'):\n",
        "      print(\"Honey: Ok! Try-> ask about tollywood\")\n",
        "    else:\n",
        "      if(greet(user_res)!=None):\n",
        "        print(\"Honey: \"+greet(user_res))\n",
        "      else:\n",
        "        sent_tokens.append(user_res)\n",
        "        word_tokens=word_tokens+nltk.word_tokenize(user_res)\n",
        "        final_words=list(set(word_tokens))\n",
        "        print(\"Honey: \",end=\"\")\n",
        "        print(response(user_res))\n",
        "        sent_tokens.remove(user_res)\n",
        "  else:\n",
        "    flag=False\n",
        "    print(\"Honey: GoodBye! Take care <3\")\n",
        "\n"
      ],
      "metadata": {
        "colab": {
          "base_uri": "https://localhost:8080/"
        },
        "id": "ux7aoI5hq4Vx",
        "outputId": "79ae88ab-5258-423f-cdaa-9cde4c255859"
      },
      "execution_count": 16,
      "outputs": [
        {
          "output_type": "stream",
          "name": "stdout",
          "text": [
            "BOT : My name is Honey. kaburlu chepukundham.... okavela vodhu anukunte Bye chepi po :<\n",
            "hi\n",
            "Honey: helo\n",
            "hu\n",
            "Honey: adivi manishini thalli ardam kale :(\n",
            "bye\n",
            "Honey: GoodBye! Take care <3\n"
          ]
        }
      ]
    },
    {
      "cell_type": "code",
      "source": [],
      "metadata": {
        "id": "OgRTUCiMqF6a"
      },
      "execution_count": null,
      "outputs": []
    }
  ]
}